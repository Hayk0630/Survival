{
 "cells": [
  {
   "cell_type": "code",
   "execution_count": null,
   "id": "9a32aa77",
   "metadata": {},
   "outputs": [],
   "source": [
    "#importing the necessary libraries\n",
    "import numpy as np\n",
    "import pandas as pd\n",
    "from pathlib import Path\n"
   ]
  },
  {
   "cell_type": "markdown",
   "id": "2381436b",
   "metadata": {},
   "source": [
    "getting the data\n"
   ]
  },
  {
   "cell_type": "code",
   "execution_count": null,
   "id": "4d54731b",
   "metadata": {},
   "outputs": [],
   "source": [
    "from pathlib import Path\n",
    "\n",
    "def clean_path(user_input_path: str) -> Path:\n",
    "    # Replace backslashes with forward slashes\n",
    "    safe_path_str = user_input_path.replace('\\\\', '/')\n",
    "    return Path(safe_path_str)\n",
    "clean_path(\"C:\\Users\\acer\\Desktop\\pythonProject\\Survival_dataset.csv\")\n"
   ]
  },
  {
   "cell_type": "code",
   "execution_count": 36,
   "id": "7afac2ef",
   "metadata": {},
   "outputs": [
    {
     "ename": "SyntaxError",
     "evalue": "(unicode error) 'unicodeescape' codec can't decode bytes in position 2-3: truncated \\UXXXXXXXX escape (1139982142.py, line 2)",
     "output_type": "error",
     "traceback": [
      "  \u001b[36mCell\u001b[39m\u001b[36m \u001b[39m\u001b[32mIn[36]\u001b[39m\u001b[32m, line 2\u001b[39m\n\u001b[31m    \u001b[39m\u001b[31mclean_path(\"C:\\Users\\acer\\Desktop\\pythonProject\\Survival_dataset.csv\")\u001b[39m\n               ^\n\u001b[31mSyntaxError\u001b[39m\u001b[31m:\u001b[39m (unicode error) 'unicodeescape' codec can't decode bytes in position 2-3: truncated \\UXXXXXXXX escape\n"
     ]
    }
   ],
   "source": [
    "# User pastes: C:\\Users\\acer\\Desktop\\pythonProject\\Survival_dataset.csv\n",
    "clean_path(\"C:\\Users\\acer\\Desktop\\pythonProject\\Survival_dataset.csv\")"
   ]
  },
  {
   "cell_type": "code",
   "execution_count": null,
   "id": "0b6ef0f9",
   "metadata": {},
   "outputs": [],
   "source": []
  }
 ],
 "metadata": {
  "kernelspec": {
   "display_name": "Python 3",
   "language": "python",
   "name": "python3"
  },
  "language_info": {
   "codemirror_mode": {
    "name": "ipython",
    "version": 3
   },
   "file_extension": ".py",
   "mimetype": "text/x-python",
   "name": "python",
   "nbconvert_exporter": "python",
   "pygments_lexer": "ipython3",
   "version": "3.13.3"
  }
 },
 "nbformat": 4,
 "nbformat_minor": 5
}
